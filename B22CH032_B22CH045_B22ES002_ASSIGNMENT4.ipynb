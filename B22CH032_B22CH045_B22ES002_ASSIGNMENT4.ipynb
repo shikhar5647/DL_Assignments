{
  "cells": [
    {
      "cell_type": "code",
      "execution_count": 1,
      "metadata": {
        "id": "eG8WUC9bM88s"
      },
      "outputs": [],
      "source": [
        "import torch\n",
        "import torch.nn as nn\n",
        "import torch.optim as optim\n",
        "import torchvision\n",
        "import torchvision.transforms as transforms\n",
        "from torchvision import models\n",
        "from torch.utils.data import DataLoader, Subset\n",
        "import numpy as np\n",
        "import matplotlib.pyplot as plt\n",
        "import seaborn as sns\n",
        "from sklearn.metrics import confusion_matrix\n",
        "from tqdm import tqdm\n",
        "import random\n",
        "import os"
      ]
    },
    {
      "cell_type": "code",
      "execution_count": 2,
      "metadata": {
        "id": "PXFuVvKqOhBk"
      },
      "outputs": [],
      "source": [
        "import math\n",
        "import argparse"
      ]
    },
    {
      "cell_type": "code",
      "execution_count": 3,
      "metadata": {
        "colab": {
          "base_uri": "https://localhost:8080/"
        },
        "id": "Q5Aj-SFyNBMG",
        "outputId": "085ca3e6-2b5f-4f04-c3aa-4fcf4490d25e"
      },
      "outputs": [
        {
          "name": "stdout",
          "output_type": "stream",
          "text": [
            "Using device: cuda\n"
          ]
        }
      ],
      "source": [
        "torch.manual_seed(42)\n",
        "torch.cuda.manual_seed(42)\n",
        "np.random.seed(42)\n",
        "random.seed(42)\n",
        "\n",
        "# Set device\n",
        "device = torch.device(\"cuda\" if torch.cuda.is_available() else \"cpu\")\n",
        "print(f\"Using device: {device}\")"
      ]
    },
    {
      "cell_type": "code",
      "execution_count": 4,
      "metadata": {
        "id": "Q1YBE4o8NP-7"
      },
      "outputs": [],
      "source": [
        "transform_test = transforms.Compose([\n",
        "    transforms.Resize(224),\n",
        "    transforms.ToTensor(),\n",
        "    transforms.Normalize((0.5071, 0.4865, 0.4409), (0.2673, 0.2564, 0.2762)),\n",
        "])"
      ]
    },
    {
      "cell_type": "code",
      "execution_count": 5,
      "metadata": {
        "colab": {
          "base_uri": "https://localhost:8080/"
        },
        "id": "OoSFy0QbNRqs",
        "outputId": "2e6f7644-1eb1-4c7b-e511-1fd7ea5daf41"
      },
      "outputs": [
        {
          "name": "stdout",
          "output_type": "stream",
          "text": [
            "Files already downloaded and verified\n"
          ]
        }
      ],
      "source": [
        "test_dataset = torchvision.datasets.CIFAR100(root='./data', train=False, download=True, transform=transform_test)"
      ]
    },
    {
      "cell_type": "code",
      "execution_count": 12,
      "metadata": {
        "id": "h9z5vDYcNZ0A"
      },
      "outputs": [],
      "source": [
        "teacher_weights_path = \"best_resnet34_cifar100.pth\""
      ]
    },
    {
      "cell_type": "code",
      "execution_count": 13,
      "metadata": {
        "id": "HMULeZyCNcI8"
      },
      "outputs": [],
      "source": [
        "test_indices = list(range(len(test_dataset)))\n",
        "test_split_10 = test_indices[:len(test_indices)//10]\n",
        "test_split_20 = test_indices[:len(test_indices)//5]\n",
        "\n",
        "test_dataset_10 = Subset(test_dataset, test_split_10)\n",
        "test_dataset_20 = Subset(test_dataset, test_split_20)"
      ]
    },
    {
      "cell_type": "code",
      "execution_count": 14,
      "metadata": {
        "id": "hJrgBFGVNcMa"
      },
      "outputs": [],
      "source": [
        "test_loader_10 = DataLoader(test_dataset_10, batch_size=100, shuffle=False, num_workers=2)\n",
        "test_loader_20 = DataLoader(test_dataset_20, batch_size=100, shuffle=False, num_workers=2)\n",
        "test_loader_full = DataLoader(test_dataset, batch_size=100, shuffle=False, num_workers=2)"
      ]
    },
    {
      "cell_type": "code",
      "execution_count": 15,
      "metadata": {
        "id": "aFrvI5chNgpX"
      },
      "outputs": [],
      "source": [
        "def load_teacher_model(weights_path):\n",
        "    teacher = models.resnet34(pretrained=False)\n",
        "    teacher.fc = nn.Linear(teacher.fc.in_features, 100)\n",
        "    teacher.load_state_dict(torch.load(weights_path, map_location=device))\n",
        "    teacher = teacher.to(device)\n",
        "    teacher.eval()  # Set to evaluation mode\n",
        "    return teacher"
      ]
    },
    {
      "cell_type": "code",
      "execution_count": 16,
      "metadata": {
        "id": "2A7Jr2QrNgro"
      },
      "outputs": [],
      "source": [
        "def count_parameters(model):\n",
        "    return sum(p.numel() for p in model.parameters())"
      ]
    },
    {
      "cell_type": "code",
      "execution_count": 17,
      "metadata": {
        "colab": {
          "base_uri": "https://localhost:8080/"
        },
        "id": "FNtJ3ergNgvF",
        "outputId": "76a7dcf4-a8bd-4751-ed42-8d86ba96a812"
      },
      "outputs": [
        {
          "name": "stdout",
          "output_type": "stream",
          "text": [
            "Teacher model total parameters: 21335972\n"
          ]
        }
      ],
      "source": [
        "teacher_model = load_teacher_model(teacher_weights_path)\n",
        "teacher_params = count_parameters(teacher_model)\n",
        "print(f\"Teacher model total parameters: {teacher_params}\")"
      ]
    },
    {
      "cell_type": "code",
      "execution_count": 18,
      "metadata": {
        "colab": {
          "base_uri": "https://localhost:8080/"
        },
        "id": "QRd5UWN1NrTR",
        "outputId": "cb62d9de-4031-4cdb-d043-e8254f17674e"
      },
      "outputs": [
        {
          "name": "stdout",
          "output_type": "stream",
          "text": [
            "ResNet(\n",
            "  (conv1): Conv2d(3, 64, kernel_size=(7, 7), stride=(2, 2), padding=(3, 3), bias=False)\n",
            "  (bn1): BatchNorm2d(64, eps=1e-05, momentum=0.1, affine=True, track_running_stats=True)\n",
            "  (relu): ReLU(inplace=True)\n",
            "  (maxpool): MaxPool2d(kernel_size=3, stride=2, padding=1, dilation=1, ceil_mode=False)\n",
            "  (layer1): Sequential(\n",
            "    (0): BasicBlock(\n",
            "      (conv1): Conv2d(64, 64, kernel_size=(3, 3), stride=(1, 1), padding=(1, 1), bias=False)\n",
            "      (bn1): BatchNorm2d(64, eps=1e-05, momentum=0.1, affine=True, track_running_stats=True)\n",
            "      (relu): ReLU(inplace=True)\n",
            "      (conv2): Conv2d(64, 64, kernel_size=(3, 3), stride=(1, 1), padding=(1, 1), bias=False)\n",
            "      (bn2): BatchNorm2d(64, eps=1e-05, momentum=0.1, affine=True, track_running_stats=True)\n",
            "    )\n",
            "    (1): BasicBlock(\n",
            "      (conv1): Conv2d(64, 64, kernel_size=(3, 3), stride=(1, 1), padding=(1, 1), bias=False)\n",
            "      (bn1): BatchNorm2d(64, eps=1e-05, momentum=0.1, affine=True, track_running_stats=True)\n",
            "      (relu): ReLU(inplace=True)\n",
            "      (conv2): Conv2d(64, 64, kernel_size=(3, 3), stride=(1, 1), padding=(1, 1), bias=False)\n",
            "      (bn2): BatchNorm2d(64, eps=1e-05, momentum=0.1, affine=True, track_running_stats=True)\n",
            "    )\n",
            "    (2): BasicBlock(\n",
            "      (conv1): Conv2d(64, 64, kernel_size=(3, 3), stride=(1, 1), padding=(1, 1), bias=False)\n",
            "      (bn1): BatchNorm2d(64, eps=1e-05, momentum=0.1, affine=True, track_running_stats=True)\n",
            "      (relu): ReLU(inplace=True)\n",
            "      (conv2): Conv2d(64, 64, kernel_size=(3, 3), stride=(1, 1), padding=(1, 1), bias=False)\n",
            "      (bn2): BatchNorm2d(64, eps=1e-05, momentum=0.1, affine=True, track_running_stats=True)\n",
            "    )\n",
            "  )\n",
            "  (layer2): Sequential(\n",
            "    (0): BasicBlock(\n",
            "      (conv1): Conv2d(64, 128, kernel_size=(3, 3), stride=(2, 2), padding=(1, 1), bias=False)\n",
            "      (bn1): BatchNorm2d(128, eps=1e-05, momentum=0.1, affine=True, track_running_stats=True)\n",
            "      (relu): ReLU(inplace=True)\n",
            "      (conv2): Conv2d(128, 128, kernel_size=(3, 3), stride=(1, 1), padding=(1, 1), bias=False)\n",
            "      (bn2): BatchNorm2d(128, eps=1e-05, momentum=0.1, affine=True, track_running_stats=True)\n",
            "      (downsample): Sequential(\n",
            "        (0): Conv2d(64, 128, kernel_size=(1, 1), stride=(2, 2), bias=False)\n",
            "        (1): BatchNorm2d(128, eps=1e-05, momentum=0.1, affine=True, track_running_stats=True)\n",
            "      )\n",
            "    )\n",
            "    (1): BasicBlock(\n",
            "      (conv1): Conv2d(128, 128, kernel_size=(3, 3), stride=(1, 1), padding=(1, 1), bias=False)\n",
            "      (bn1): BatchNorm2d(128, eps=1e-05, momentum=0.1, affine=True, track_running_stats=True)\n",
            "      (relu): ReLU(inplace=True)\n",
            "      (conv2): Conv2d(128, 128, kernel_size=(3, 3), stride=(1, 1), padding=(1, 1), bias=False)\n",
            "      (bn2): BatchNorm2d(128, eps=1e-05, momentum=0.1, affine=True, track_running_stats=True)\n",
            "    )\n",
            "    (2): BasicBlock(\n",
            "      (conv1): Conv2d(128, 128, kernel_size=(3, 3), stride=(1, 1), padding=(1, 1), bias=False)\n",
            "      (bn1): BatchNorm2d(128, eps=1e-05, momentum=0.1, affine=True, track_running_stats=True)\n",
            "      (relu): ReLU(inplace=True)\n",
            "      (conv2): Conv2d(128, 128, kernel_size=(3, 3), stride=(1, 1), padding=(1, 1), bias=False)\n",
            "      (bn2): BatchNorm2d(128, eps=1e-05, momentum=0.1, affine=True, track_running_stats=True)\n",
            "    )\n",
            "    (3): BasicBlock(\n",
            "      (conv1): Conv2d(128, 128, kernel_size=(3, 3), stride=(1, 1), padding=(1, 1), bias=False)\n",
            "      (bn1): BatchNorm2d(128, eps=1e-05, momentum=0.1, affine=True, track_running_stats=True)\n",
            "      (relu): ReLU(inplace=True)\n",
            "      (conv2): Conv2d(128, 128, kernel_size=(3, 3), stride=(1, 1), padding=(1, 1), bias=False)\n",
            "      (bn2): BatchNorm2d(128, eps=1e-05, momentum=0.1, affine=True, track_running_stats=True)\n",
            "    )\n",
            "  )\n",
            "  (layer3): Sequential(\n",
            "    (0): BasicBlock(\n",
            "      (conv1): Conv2d(128, 256, kernel_size=(3, 3), stride=(2, 2), padding=(1, 1), bias=False)\n",
            "      (bn1): BatchNorm2d(256, eps=1e-05, momentum=0.1, affine=True, track_running_stats=True)\n",
            "      (relu): ReLU(inplace=True)\n",
            "      (conv2): Conv2d(256, 256, kernel_size=(3, 3), stride=(1, 1), padding=(1, 1), bias=False)\n",
            "      (bn2): BatchNorm2d(256, eps=1e-05, momentum=0.1, affine=True, track_running_stats=True)\n",
            "      (downsample): Sequential(\n",
            "        (0): Conv2d(128, 256, kernel_size=(1, 1), stride=(2, 2), bias=False)\n",
            "        (1): BatchNorm2d(256, eps=1e-05, momentum=0.1, affine=True, track_running_stats=True)\n",
            "      )\n",
            "    )\n",
            "    (1): BasicBlock(\n",
            "      (conv1): Conv2d(256, 256, kernel_size=(3, 3), stride=(1, 1), padding=(1, 1), bias=False)\n",
            "      (bn1): BatchNorm2d(256, eps=1e-05, momentum=0.1, affine=True, track_running_stats=True)\n",
            "      (relu): ReLU(inplace=True)\n",
            "      (conv2): Conv2d(256, 256, kernel_size=(3, 3), stride=(1, 1), padding=(1, 1), bias=False)\n",
            "      (bn2): BatchNorm2d(256, eps=1e-05, momentum=0.1, affine=True, track_running_stats=True)\n",
            "    )\n",
            "    (2): BasicBlock(\n",
            "      (conv1): Conv2d(256, 256, kernel_size=(3, 3), stride=(1, 1), padding=(1, 1), bias=False)\n",
            "      (bn1): BatchNorm2d(256, eps=1e-05, momentum=0.1, affine=True, track_running_stats=True)\n",
            "      (relu): ReLU(inplace=True)\n",
            "      (conv2): Conv2d(256, 256, kernel_size=(3, 3), stride=(1, 1), padding=(1, 1), bias=False)\n",
            "      (bn2): BatchNorm2d(256, eps=1e-05, momentum=0.1, affine=True, track_running_stats=True)\n",
            "    )\n",
            "    (3): BasicBlock(\n",
            "      (conv1): Conv2d(256, 256, kernel_size=(3, 3), stride=(1, 1), padding=(1, 1), bias=False)\n",
            "      (bn1): BatchNorm2d(256, eps=1e-05, momentum=0.1, affine=True, track_running_stats=True)\n",
            "      (relu): ReLU(inplace=True)\n",
            "      (conv2): Conv2d(256, 256, kernel_size=(3, 3), stride=(1, 1), padding=(1, 1), bias=False)\n",
            "      (bn2): BatchNorm2d(256, eps=1e-05, momentum=0.1, affine=True, track_running_stats=True)\n",
            "    )\n",
            "    (4): BasicBlock(\n",
            "      (conv1): Conv2d(256, 256, kernel_size=(3, 3), stride=(1, 1), padding=(1, 1), bias=False)\n",
            "      (bn1): BatchNorm2d(256, eps=1e-05, momentum=0.1, affine=True, track_running_stats=True)\n",
            "      (relu): ReLU(inplace=True)\n",
            "      (conv2): Conv2d(256, 256, kernel_size=(3, 3), stride=(1, 1), padding=(1, 1), bias=False)\n",
            "      (bn2): BatchNorm2d(256, eps=1e-05, momentum=0.1, affine=True, track_running_stats=True)\n",
            "    )\n",
            "    (5): BasicBlock(\n",
            "      (conv1): Conv2d(256, 256, kernel_size=(3, 3), stride=(1, 1), padding=(1, 1), bias=False)\n",
            "      (bn1): BatchNorm2d(256, eps=1e-05, momentum=0.1, affine=True, track_running_stats=True)\n",
            "      (relu): ReLU(inplace=True)\n",
            "      (conv2): Conv2d(256, 256, kernel_size=(3, 3), stride=(1, 1), padding=(1, 1), bias=False)\n",
            "      (bn2): BatchNorm2d(256, eps=1e-05, momentum=0.1, affine=True, track_running_stats=True)\n",
            "    )\n",
            "  )\n",
            "  (layer4): Sequential(\n",
            "    (0): BasicBlock(\n",
            "      (conv1): Conv2d(256, 512, kernel_size=(3, 3), stride=(2, 2), padding=(1, 1), bias=False)\n",
            "      (bn1): BatchNorm2d(512, eps=1e-05, momentum=0.1, affine=True, track_running_stats=True)\n",
            "      (relu): ReLU(inplace=True)\n",
            "      (conv2): Conv2d(512, 512, kernel_size=(3, 3), stride=(1, 1), padding=(1, 1), bias=False)\n",
            "      (bn2): BatchNorm2d(512, eps=1e-05, momentum=0.1, affine=True, track_running_stats=True)\n",
            "      (downsample): Sequential(\n",
            "        (0): Conv2d(256, 512, kernel_size=(1, 1), stride=(2, 2), bias=False)\n",
            "        (1): BatchNorm2d(512, eps=1e-05, momentum=0.1, affine=True, track_running_stats=True)\n",
            "      )\n",
            "    )\n",
            "    (1): BasicBlock(\n",
            "      (conv1): Conv2d(512, 512, kernel_size=(3, 3), stride=(1, 1), padding=(1, 1), bias=False)\n",
            "      (bn1): BatchNorm2d(512, eps=1e-05, momentum=0.1, affine=True, track_running_stats=True)\n",
            "      (relu): ReLU(inplace=True)\n",
            "      (conv2): Conv2d(512, 512, kernel_size=(3, 3), stride=(1, 1), padding=(1, 1), bias=False)\n",
            "      (bn2): BatchNorm2d(512, eps=1e-05, momentum=0.1, affine=True, track_running_stats=True)\n",
            "    )\n",
            "    (2): BasicBlock(\n",
            "      (conv1): Conv2d(512, 512, kernel_size=(3, 3), stride=(1, 1), padding=(1, 1), bias=False)\n",
            "      (bn1): BatchNorm2d(512, eps=1e-05, momentum=0.1, affine=True, track_running_stats=True)\n",
            "      (relu): ReLU(inplace=True)\n",
            "      (conv2): Conv2d(512, 512, kernel_size=(3, 3), stride=(1, 1), padding=(1, 1), bias=False)\n",
            "      (bn2): BatchNorm2d(512, eps=1e-05, momentum=0.1, affine=True, track_running_stats=True)\n",
            "    )\n",
            "  )\n",
            "  (avgpool): AdaptiveAvgPool2d(output_size=(1, 1))\n",
            "  (fc): Linear(in_features=512, out_features=100, bias=True)\n",
            ")\n"
          ]
        }
      ],
      "source": [
        "print(teacher_model)"
      ]
    },
    {
      "cell_type": "code",
      "execution_count": 19,
      "metadata": {
        "id": "X_pebrHqNrWm"
      },
      "outputs": [],
      "source": [
        "class Flatten(nn.Module):\n",
        "    def __init__(self):\n",
        "        super(Flatten, self).__init__()\n",
        "\n",
        "    def forward(self, x):\n",
        "        return x.view(x.shape[0], -1)\n",
        "\n",
        "class GeneratorA(nn.Module):\n",
        "    def __init__(self, nz=100, ngf=64, nc=1, img_size=32):\n",
        "        super(GeneratorA, self).__init__()\n",
        "\n",
        "        self.init_size = img_size//4\n",
        "        self.l1 = nn.Sequential(nn.Linear(nz, ngf*2*self.init_size**2))\n",
        "\n",
        "        self.conv_blocks0 = nn.Sequential(\n",
        "            nn.BatchNorm2d(ngf*2),\n",
        "        )\n",
        "        self.conv_blocks1 = nn.Sequential(\n",
        "            nn.Conv2d(ngf*2, ngf*2, 3, stride=1, padding=1),\n",
        "            nn.BatchNorm2d(ngf*2),\n",
        "            nn.LeakyReLU(0.2, inplace=True),\n",
        "        )\n",
        "        self.conv_blocks2 = nn.Sequential(\n",
        "            nn.Conv2d(ngf*2, ngf, 3, stride=1, padding=1),\n",
        "            nn.BatchNorm2d(ngf),\n",
        "            nn.LeakyReLU(0.2, inplace=True),\n",
        "            nn.Conv2d(ngf, nc, 3, stride=1, padding=1),\n",
        "            nn.Tanh(),\n",
        "            nn.BatchNorm2d(nc, affine=False)\n",
        "        )\n",
        "\n",
        "    def forward(self, z):\n",
        "        out = self.l1(z.view(z.shape[0],-1))\n",
        "        out = out.view(out.shape[0], -1, self.init_size, self.init_size)\n",
        "        img = self.conv_blocks0(out)\n",
        "        img = nn.functional.interpolate(img,scale_factor=2)\n",
        "        img = self.conv_blocks1(img)\n",
        "        img = nn.functional.interpolate(img,scale_factor=2)\n",
        "        img = self.conv_blocks2(img)\n",
        "        return img"
      ]
    },
    {
      "cell_type": "code",
      "execution_count": 20,
      "metadata": {
        "id": "wlq35MG1OAVV"
      },
      "outputs": [],
      "source": [
        "import torch\n",
        "import torch.nn as nn\n",
        "import torch.nn.functional as F\n",
        "\n",
        "class BasicBlock(nn.Module):\n",
        "    expansion = 1\n",
        "\n",
        "    def __init__(self, in_planes, planes, stride=1):\n",
        "        super(BasicBlock, self).__init__()\n",
        "        self.conv1 = nn.Conv2d(in_planes, planes, kernel_size=3, stride=stride, padding=1, bias=False)\n",
        "        self.bn1 = nn.BatchNorm2d(planes)\n",
        "        self.conv2 = nn.Conv2d(planes, planes, kernel_size=3, stride=1, padding=1, bias=False)\n",
        "        self.bn2 = nn.BatchNorm2d(planes)\n",
        "\n",
        "        self.shortcut = nn.Sequential()\n",
        "        if stride != 1 or in_planes != self.expansion * planes:\n",
        "            self.shortcut = nn.Sequential(\n",
        "                nn.Conv2d(in_planes, self.expansion * planes, kernel_size=1, stride=stride, bias=False),\n",
        "                nn.BatchNorm2d(self.expansion * planes)\n",
        "            )\n",
        "\n",
        "    def forward(self, x):\n",
        "        out = F.relu(self.bn1(self.conv1(x)))\n",
        "        out = self.bn2(self.conv2(out))\n",
        "        out += self.shortcut(x)\n",
        "        out = F.relu(out)\n",
        "        return out\n",
        "\n",
        "\n",
        "class Bottleneck(nn.Module):\n",
        "    expansion = 4\n",
        "\n",
        "    def __init__(self, in_planes, planes, stride=1):\n",
        "        super(Bottleneck, self).__init__()\n",
        "        self.conv1 = nn.Conv2d(in_planes, planes, kernel_size=1, bias=False)\n",
        "        self.bn1 = nn.BatchNorm2d(planes)\n",
        "        self.conv2 = nn.Conv2d(planes, planes, kernel_size=3, stride=stride, padding=1, bias=False)\n",
        "        self.bn2 = nn.BatchNorm2d(planes)\n",
        "        self.conv3 = nn.Conv2d(planes, self.expansion * planes, kernel_size=1, bias=False)\n",
        "        self.bn3 = nn.BatchNorm2d(self.expansion * planes)\n",
        "\n",
        "        self.shortcut = nn.Sequential()\n",
        "        if stride != 1 or in_planes != self.expansion * planes:\n",
        "            self.shortcut = nn.Sequential(\n",
        "                nn.Conv2d(in_planes, self.expansion * planes, kernel_size=1, stride=stride, bias=False),\n",
        "                nn.BatchNorm2d(self.expansion * planes)\n",
        "            )\n",
        "\n",
        "    def forward(self, x):\n",
        "        out = F.relu(self.bn1(self.conv1(x)))\n",
        "        out = F.relu(self.bn2(self.conv2(out)))\n",
        "        out = self.bn3(self.conv3(out))\n",
        "        out += self.shortcut(x)\n",
        "        out = F.relu(out)\n",
        "        return out\n",
        "\n",
        "\n",
        "class ResNet(nn.Module):\n",
        "    def __init__(self, block, num_blocks, num_classes=100):  # ✅ Changed to 100 for CIFAR-100\n",
        "        super(ResNet, self).__init__()\n",
        "        self.in_planes = 64\n",
        "\n",
        "        self.conv1 = nn.Conv2d(3, 64, kernel_size=3, stride=1, padding=1, bias=False)\n",
        "        self.bn1 = nn.BatchNorm2d(64)\n",
        "        self.layer1 = self._make_layer(block, 64, num_blocks[0], stride=1)\n",
        "        self.layer2 = self._make_layer(block, 128, num_blocks[1], stride=2)\n",
        "        self.layer3 = self._make_layer(block, 256, num_blocks[2], stride=2)\n",
        "        self.layer4 = self._make_layer(block, 512, num_blocks[3], stride=2)\n",
        "\n",
        "        self.linear = nn.Linear(512 * block.expansion, num_classes)\n",
        "\n",
        "        # Initialization\n",
        "        for m in self.modules():\n",
        "            if isinstance(m, nn.Conv2d):\n",
        "                nn.init.kaiming_normal_(m.weight, mode='fan_out', nonlinearity='relu')\n",
        "            elif isinstance(m, (nn.BatchNorm2d, nn.GroupNorm)):\n",
        "                nn.init.constant_(m.weight, 1)\n",
        "                nn.init.constant_(m.bias, 0)\n",
        "\n",
        "    def _make_layer(self, block, planes, num_blocks, stride):\n",
        "        strides = [stride] + [1] * (num_blocks - 1)\n",
        "        layers = []\n",
        "        for stride in strides:\n",
        "            layers.append(block(self.in_planes, planes, stride))\n",
        "            self.in_planes = planes * block.expansion\n",
        "        return nn.Sequential(*layers)\n",
        "\n",
        "    def forward(self, x, out_feature=False):\n",
        "        out = F.relu(self.bn1(self.conv1(x)))\n",
        "        out = self.layer1(out)\n",
        "        out = self.layer2(out)\n",
        "        out = self.layer3(out)\n",
        "        out = self.layer4(out)\n",
        "        out = F.adaptive_avg_pool2d(out, 1)  # ✅ Replaced fixed pooling with adaptive\n",
        "        feature = out.view(out.size(0), -1)\n",
        "        out = self.linear(feature)\n",
        "        if not out_feature:\n",
        "            return out\n",
        "        else:\n",
        "            return out, feature\n",
        "\n",
        "\n",
        "def ResNet18_8x(num_classes=100):\n",
        "    return ResNet(BasicBlock, [2, 2, 2, 2], num_classes)\n"
      ]
    },
    {
      "cell_type": "code",
      "execution_count": 21,
      "metadata": {
        "id": "FhhEwSGoOAXs"
      },
      "outputs": [],
      "source": [
        "def pack_images(images, col=None, channel_last=False):\n",
        "    # N, C, H, W\n",
        "    if isinstance(images, (list, tuple) ):\n",
        "        images = np.stack(images, 0)\n",
        "    if channel_last:\n",
        "        images = images.transpose(0,3,1,2) # make it channel first\n",
        "    assert len(images.shape)==4\n",
        "    assert isinstance(images, np.ndarray)\n",
        "\n",
        "    N,C,H,W = images.shape\n",
        "    if col is None:\n",
        "        col = int(math.ceil(math.sqrt(N)))\n",
        "    row = int(math.ceil(N / col))\n",
        "    pack = np.zeros( (C, H*row, W*col), dtype=images.dtype )\n",
        "    for idx, img in enumerate(images):\n",
        "        h = (idx//col) * H\n",
        "        w = (idx% col) * W\n",
        "        pack[:, h:h+H, w:w+W] = img\n",
        "    return pack\n",
        "\n",
        "\n",
        "def denormalize(tensor, mean, std):\n",
        "    _mean = [ -m / s for m, s in zip(mean, std) ]\n",
        "    _std = [ 1/s for s in std ]\n",
        "\n",
        "    _mean = torch.as_tensor(_mean, dtype=tensor.dtype, device=tensor.device)\n",
        "    _std = torch.as_tensor(_std, dtype=tensor.dtype, device=tensor.device)\n",
        "    tensor.sub_(_mean[None, :, None, None]).div_(_std[None, :, None, None])\n",
        "    return tensor\n",
        "\n",
        "    #torchvision.transforms.functional.normalize\n",
        "    #return normalize( tensor, _mean, _std ) #torchvision.transforms.functional.normalize(tensor, _mean, _std)"
      ]
    },
    {
      "cell_type": "code",
      "execution_count": 22,
      "metadata": {
        "id": "53ETYKLWOAbW"
      },
      "outputs": [],
      "source": [
        "student = ResNet18_8x(num_classes=100)"
      ]
    },
    {
      "cell_type": "code",
      "execution_count": 23,
      "metadata": {
        "id": "hvUGy_WGOn3I"
      },
      "outputs": [],
      "source": [
        "student = student.to(device)"
      ]
    },
    {
      "cell_type": "code",
      "execution_count": 38,
      "metadata": {
        "id": "lzTSoNJ2sDXj"
      },
      "outputs": [],
      "source": [
        "class Args:\n",
        "    def __init__(self):\n",
        "        # Training Hyperparameters\n",
        "        self.lr_G = 1e-3  # Reference default LR for Generator\n",
        "        self.lr_S = 0.1   # Reference default LR for Student\n",
        "        self.epochs = 100 # Reference default epochs\n",
        "        self.epoch_itrs = 50 # Reference iterations per epoch\n",
        "        self.batch_size = 256 # Reference default batch size\n",
        "        self.nz = 256     # Reference default latent vector size\n",
        "        self.weight_decay = 5e-4 # Reference default weight decay for SGD\n",
        "        self.momentum = 0.9    # Reference default momentum for SGD\n",
        "\n",
        "        # Model and Data\n",
        "        self.num_classes = 100 # For CIFAR-100\n",
        "        self.img_size = 32   # Assuming generator outputs 32x32 for CIFAR\n",
        "\n",
        "        # Scheduler\n",
        "        self.scheduler = True # Use scheduler like in reference\n",
        "        self.milestones = [100, 200] # Example milestones for MultiStepLR (adjust as needed)\n",
        "        self.lr_gamma = 0.1 # Multiplicative factor for scheduler\n",
        "\n",
        "        # Saving and Logging\n",
        "        self.save_dir = './checkpoints_dfad_cifar100' # Directory to save results\n",
        "        self.log_interval = 10 # How often to print logs within an epoch (ref default)\n",
        "        self.vis_interval = 100 # How often to save generated images"
      ]
    },
    {
      "cell_type": "code",
      "execution_count": 39,
      "metadata": {
        "id": "AvQyJYtDv4Oz"
      },
      "outputs": [],
      "source": [
        "args = Args()\n",
        "os.makedirs(args.save_dir, exist_ok=True)"
      ]
    },
    {
      "cell_type": "code",
      "execution_count": 40,
      "metadata": {
        "colab": {
          "base_uri": "https://localhost:8080/"
        },
        "id": "vkY7j--7wGP9",
        "outputId": "da77da42-fe4a-49e5-9d38-bf096ba9ce16"
      },
      "outputs": [
        {
          "name": "stdout",
          "output_type": "stream",
          "text": [
            "Generator parameters: 2329091\n"
          ]
        }
      ],
      "source": [
        "generator = GeneratorA(nz=args.nz, nc=3, img_size=32).to(device)\n",
        "print(f\"Generator parameters: {count_parameters(generator)}\")"
      ]
    },
    {
      "cell_type": "code",
      "execution_count": 41,
      "metadata": {
        "id": "C9rW7N2awG4p"
      },
      "outputs": [],
      "source": [
        "optimizer_S = optim.SGD( student.parameters(), lr=args.lr_S, weight_decay=args.weight_decay, momentum=0.9 )\n",
        "optimizer_G = optim.Adam( generator.parameters(), lr=args.lr_G )"
      ]
    },
    {
      "cell_type": "code",
      "execution_count": 42,
      "metadata": {
        "id": "cl4zWP3gwG8I"
      },
      "outputs": [],
      "source": [
        "scheduler_G = optim.lr_scheduler.StepLR(optimizer_G, step_size=30, gamma=0.5)\n",
        "scheduler_S = optim.lr_scheduler.StepLR(optimizer_S, step_size=30, gamma=0.5)"
      ]
    },
    {
      "cell_type": "code",
      "execution_count": 43,
      "metadata": {
        "id": "fcQaALKGwPJn"
      },
      "outputs": [],
      "source": [
        "criterion_cls = nn.CrossEntropyLoss().to(device)\n",
        "criterion_mse = nn.MSELoss().to(device)"
      ]
    },
    {
      "cell_type": "code",
      "execution_count": 44,
      "metadata": {
        "id": "UN14pkxbwRdS"
      },
      "outputs": [],
      "source": [
        "import torch.nn.functional as F\n",
        "\n",
        "# Testing function\n",
        "def test(model, test_loader):\n",
        "    model.eval()\n",
        "    correct = 0\n",
        "    total = 0\n",
        "    with torch.no_grad():\n",
        "        for inputs, targets in test_loader:\n",
        "            inputs, targets = inputs.to(device), targets.to(device)\n",
        "            outputs = model(inputs)\n",
        "            _, predicted = outputs.max(1)\n",
        "            total += targets.size(0)\n",
        "            correct += predicted.eq(targets).sum().item()\n",
        "\n",
        "    accuracy = 100. * correct / total\n",
        "    return accuracy"
      ]
    },
    {
      "cell_type": "code",
      "execution_count": 45,
      "metadata": {
        "id": "ATHDqJoo_T9c"
      },
      "outputs": [],
      "source": [
        "import torch.nn.functional as F"
      ]
    },
    {
      "cell_type": "code",
      "execution_count": 46,
      "metadata": {
        "id": "9MlXOuoO_T_c"
      },
      "outputs": [],
      "source": [
        "cifar100_mean = (0.5071, 0.4865, 0.4409)\n",
        "cifar100_std = (0.2673, 0.2564, 0.2762)"
      ]
    },
    {
      "cell_type": "code",
      "execution_count": 47,
      "metadata": {
        "id": "DaJ0gPdC_UDC"
      },
      "outputs": [],
      "source": [
        "criterion_l1 = nn.L1Loss().to(device)"
      ]
    },
    {
      "cell_type": "code",
      "execution_count": 48,
      "metadata": {
        "id": "ljNMOAiFwULC"
      },
      "outputs": [],
      "source": [
        "def train(epoch):\n",
        "    teacher_model.eval() # Teacher is fixed\n",
        "    student.train()\n",
        "    generator.train()\n",
        "\n",
        "    total_loss_s = 0.0\n",
        "    total_loss_g = 0.0\n",
        "\n",
        "    # Use tqdm for the iterations within an epoch\n",
        "    pbar = tqdm(range(args.epoch_itrs), desc=f\"Epoch {epoch}/{args.epochs}\")\n",
        "    for i in pbar:\n",
        "        # --- Train Student (k=5 times) ---\n",
        "        current_loss_s = 0.0\n",
        "        for _ in range(5): # Reference trains student 5 times per generator step\n",
        "            # Generate latent vectors\n",
        "            z = torch.randn(args.batch_size, args.nz).to(device) # Assuming generator takes (Batch, nz)\n",
        "            # z = torch.randn(args.batch_size, args.nz, 1, 1).to(device) # Use this if generator takes (Batch, nz, 1, 1)\n",
        "\n",
        "            optimizer_S.zero_grad()\n",
        "\n",
        "            # Generate fake images and detach from generator's graph\n",
        "            with torch.no_grad():\n",
        "                fake_images = generator(z).detach()\n",
        "                # Optional: Resize fake_images if teacher expects different size\n",
        "                # fake_images_resized = F.interpolate(fake_images, size=(224, 224), mode='bilinear', align_corners=False)\n",
        "                # t_logits = teacher(fake_images_resized).detach()\n",
        "                t_logits = teacher_model(fake_images).detach() # Get teacher logits (detached)\n",
        "\n",
        "            # Get student logits\n",
        "            s_logits = student(fake_images)\n",
        "\n",
        "            # Calculate L1 loss between student and teacher logits\n",
        "            loss_S = criterion_l1(s_logits, t_logits)\n",
        "            loss_S.backward()\n",
        "            optimizer_S.step()\n",
        "            current_loss_s += loss_S.item()\n",
        "\n",
        "        avg_loss_s_batch = current_loss_s / 5 # Average student loss over the 5 steps\n",
        "        total_loss_s += avg_loss_s_batch\n",
        "\n",
        "        # --- Train Generator ---\n",
        "        # Generate new latent vectors\n",
        "        z = torch.randn(args.batch_size, args.nz).to(device)\n",
        "        # z = torch.randn(args.batch_size, args.nz, 1, 1).to(device) # If generator takes (Batch, nz, 1, 1)\n",
        "\n",
        "        optimizer_G.zero_grad()\n",
        "\n",
        "        # Generate fake images (DO NOT detach for generator training)\n",
        "        fake_images = generator(z)\n",
        "        # Optional: Resize if teacher expects different size\n",
        "        # fake_images_resized = F.interpolate(fake_images, size=(224, 224), mode='bilinear', align_corners=False)\n",
        "\n",
        "        # Get teacher and student logits\n",
        "        with torch.no_grad(): # Teacher is fixed, no need for gradients\n",
        "             # t_logits = teacher(fake_images_resized)\n",
        "             t_logits = teacher_model(fake_images)\n",
        "        s_logits = student(fake_images) # Student grads needed for generator update\n",
        "\n",
        "        # Calculate Generator loss: Negative L1 distance (maximize difference from teacher)\n",
        "        # The reference uses -L1 loss. Maximizing -L1 is equivalent to minimizing L1 in this adversarial setup.\n",
        "        # Let's stick to the reference: -F.l1_loss(s_logit, t_logit)\n",
        "        loss_G = -criterion_l1(s_logits, t_logits)\n",
        "        loss_G.backward()\n",
        "        optimizer_G.step()\n",
        "        total_loss_g += loss_G.item()\n",
        "\n",
        "        # --- Logging ---\n",
        "        if i % args.log_interval == 0:\n",
        "            pbar.set_postfix({\n",
        "                \"Loss_G\": loss_G.item(),\n",
        "                \"Loss_S (avg)\": avg_loss_s_batch,\n",
        "                \"LR_S\": optimizer_S.param_groups[0]['lr'],\n",
        "                \"LR_G\": optimizer_G.param_groups[0]['lr']\n",
        "            })\n",
        "\n",
        "        # --- Visualize Images Periodically ---\n",
        "                # --- Visualize Images Periodically ---\n",
        "        if i % args.vis_interval == 0:\n",
        "            with torch.no_grad():\n",
        "                generator.eval() # Set generator to eval for visualization\n",
        "                vis_z = torch.randn(16, args.nz).to(device)\n",
        "                # vis_z = torch.randn(16, args.nz, 1, 1).to(device) # If needed\n",
        "                fake_images_sample = generator(vis_z)\n",
        "                # !!! PROBLEM: denormalize function provided earlier might be incorrect or modify in place !!!\n",
        "                # Let's redefine a safer denormalize just for visualization\n",
        "                def denormalize_for_vis(tensor): # Assumes input is raw [-1, 1] from Tanh\n",
        "                    return ((tensor + 1) / 2).clamp(0, 1) # Convert to [0, 1]\n",
        "\n",
        "                fake_images_display = denormalize_for_vis(fake_images_sample)\n",
        "\n",
        "                # Convert to numpy BEFORE pack_images\n",
        "                images_np = fake_images_display.detach().cpu().numpy() # Detach, move to CPU, convert to NumPy\n",
        "\n",
        "                grid = pack_images(images_np) # Pass the numpy array\n",
        "\n",
        "                plt.figure(figsize=(8, 8)) # Smaller figure size\n",
        "                plt.imshow(np.transpose(grid, (1, 2, 0))) # Transpose C, H, W -> H, W, C\n",
        "                plt.title(f\"Epoch {epoch}, Iter {i}\")\n",
        "                plt.axis('off')\n",
        "                plt.savefig(f\"{args.save_dir}/images_epoch_{epoch}_iter_{i}.png\")\n",
        "                plt.close()\n",
        "                generator.train() # Set generator back to train mode\n",
        "\n",
        "    avg_loss_g_epoch = total_loss_g / args.epoch_itrs\n",
        "    avg_loss_s_epoch = total_loss_s / args.epoch_itrs\n",
        "    print(f\"Epoch {epoch} Avg Losses -> G: {avg_loss_g_epoch:.4f}, S: {avg_loss_s_epoch:.4f}\")\n",
        "    return avg_loss_g_epoch, avg_loss_s_epoch"
      ]
    },
    {
      "cell_type": "code",
      "execution_count": 49,
      "metadata": {
        "id": "2fx804_VwYJi"
      },
      "outputs": [],
      "source": [
        "def evaluate():\n",
        "    test_acc_10 = test(student, test_loader_10)\n",
        "    test_acc_20 = test(student, test_loader_20)\n",
        "    test_acc_full = test(student, test_loader_full)\n",
        "\n",
        "    print(f\"Test accuracy (10%): {test_acc_10:.2f}%\")\n",
        "    print(f\"Test accuracy (20%): {test_acc_20:.2f}%\")\n",
        "    print(f\"Test accuracy (full): {test_acc_full:.2f}%\")\n",
        "\n",
        "    return test_acc_10, test_acc_20, test_acc_full"
      ]
    },
    {
      "cell_type": "code",
      "execution_count": 50,
      "metadata": {
        "id": "qJs9Dr8IxhEJ"
      },
      "outputs": [],
      "source": [
        "best_acc = 0\n",
        "losses_g = []\n",
        "losses_s = []\n",
        "accuracies = []"
      ]
    },
    {
      "cell_type": "code",
      "execution_count": 51,
      "metadata": {
        "colab": {
          "base_uri": "https://localhost:8080/"
        },
        "id": "ttA4Mo7qwapn",
        "outputId": "e34b1949-2f4b-457a-8b24-33c81f75cd15"
      },
      "outputs": [
        {
          "name": "stdout",
          "output_type": "stream",
          "text": [
            "Starting DFAD training...\n"
          ]
        },
        {
          "name": "stderr",
          "output_type": "stream",
          "text": [
            "Epoch 1/100: 100%|██████████| 50/50 [00:16<00:00,  3.07it/s, Loss_G=-0.223, Loss_S (avg)=0.223, LR_S=0.1, LR_G=0.001]"
          ]
        },
        {
          "name": "stdout",
          "output_type": "stream",
          "text": [
            "Epoch 1 Avg Losses -> G: -0.2448, S: 0.2527\n"
          ]
        },
        {
          "name": "stderr",
          "output_type": "stream",
          "text": [
            "\n"
          ]
        },
        {
          "name": "stdout",
          "output_type": "stream",
          "text": [
            "*** New best accuracy: 1.44% (Epoch 1) ***\n"
          ]
        },
        {
          "name": "stderr",
          "output_type": "stream",
          "text": [
            "Epoch 2/100: 100%|██████████| 50/50 [00:16<00:00,  2.97it/s, Loss_G=-0.213, Loss_S (avg)=0.209, LR_S=0.1, LR_G=0.001]"
          ]
        },
        {
          "name": "stdout",
          "output_type": "stream",
          "text": [
            "Epoch 2 Avg Losses -> G: -0.2154, S: 0.2156\n"
          ]
        },
        {
          "name": "stderr",
          "output_type": "stream",
          "text": [
            "\n"
          ]
        },
        {
          "name": "stdout",
          "output_type": "stream",
          "text": [
            "*** New best accuracy: 1.57% (Epoch 2) ***\n"
          ]
        },
        {
          "name": "stderr",
          "output_type": "stream",
          "text": [
            "Epoch 3/100: 100%|██████████| 50/50 [00:16<00:00,  2.96it/s, Loss_G=-0.201, Loss_S (avg)=0.196, LR_S=0.1, LR_G=0.001]"
          ]
        },
        {
          "name": "stdout",
          "output_type": "stream",
          "text": [
            "Epoch 3 Avg Losses -> G: -0.1997, S: 0.1988\n"
          ]
        },
        {
          "name": "stderr",
          "output_type": "stream",
          "text": [
            "\n",
            "Epoch 4/100: 100%|██████████| 50/50 [00:16<00:00,  2.96it/s, Loss_G=-0.187, Loss_S (avg)=0.184, LR_S=0.1, LR_G=0.001]"
          ]
        },
        {
          "name": "stdout",
          "output_type": "stream",
          "text": [
            "Epoch 4 Avg Losses -> G: -0.1909, S: 0.1906\n"
          ]
        },
        {
          "name": "stderr",
          "output_type": "stream",
          "text": [
            "\n"
          ]
        },
        {
          "name": "stdout",
          "output_type": "stream",
          "text": [
            "*** New best accuracy: 1.65% (Epoch 4) ***\n"
          ]
        },
        {
          "name": "stderr",
          "output_type": "stream",
          "text": [
            "Epoch 5/100: 100%|██████████| 50/50 [00:16<00:00,  2.96it/s, Loss_G=-0.176, Loss_S (avg)=0.174, LR_S=0.1, LR_G=0.001]"
          ]
        },
        {
          "name": "stdout",
          "output_type": "stream",
          "text": [
            "Epoch 5 Avg Losses -> G: -0.1768, S: 0.1762\n"
          ]
        },
        {
          "name": "stderr",
          "output_type": "stream",
          "text": [
            "\n",
            "Epoch 6/100: 100%|██████████| 50/50 [00:16<00:00,  2.97it/s, Loss_G=-0.169, Loss_S (avg)=0.171, LR_S=0.1, LR_G=0.001]"
          ]
        },
        {
          "name": "stdout",
          "output_type": "stream",
          "text": [
            "Epoch 6 Avg Losses -> G: -0.1710, S: 0.1713\n"
          ]
        },
        {
          "name": "stderr",
          "output_type": "stream",
          "text": [
            "\n",
            "Epoch 7/100: 100%|██████████| 50/50 [00:16<00:00,  2.96it/s, Loss_G=-0.163, Loss_S (avg)=0.167, LR_S=0.1, LR_G=0.001]"
          ]
        },
        {
          "name": "stdout",
          "output_type": "stream",
          "text": [
            "Epoch 7 Avg Losses -> G: -0.1675, S: 0.1680\n"
          ]
        },
        {
          "name": "stderr",
          "output_type": "stream",
          "text": [
            "\n",
            "Epoch 8/100: 100%|██████████| 50/50 [00:16<00:00,  2.97it/s, Loss_G=-0.166, Loss_S (avg)=0.164, LR_S=0.1, LR_G=0.001]"
          ]
        },
        {
          "name": "stdout",
          "output_type": "stream",
          "text": [
            "Epoch 8 Avg Losses -> G: -0.1644, S: 0.1645\n"
          ]
        },
        {
          "name": "stderr",
          "output_type": "stream",
          "text": [
            "\n",
            "Epoch 9/100: 100%|██████████| 50/50 [00:16<00:00,  2.97it/s, Loss_G=-0.161, Loss_S (avg)=0.162, LR_S=0.1, LR_G=0.001]"
          ]
        },
        {
          "name": "stdout",
          "output_type": "stream",
          "text": [
            "Epoch 9 Avg Losses -> G: -0.1594, S: 0.1594\n"
          ]
        },
        {
          "name": "stderr",
          "output_type": "stream",
          "text": [
            "\n",
            "Epoch 10/100: 100%|██████████| 50/50 [00:16<00:00,  2.99it/s, Loss_G=-0.158, Loss_S (avg)=0.155, LR_S=0.1, LR_G=0.001]"
          ]
        },
        {
          "name": "stdout",
          "output_type": "stream",
          "text": [
            "Epoch 10 Avg Losses -> G: -0.1566, S: 0.1566\n"
          ]
        },
        {
          "name": "stderr",
          "output_type": "stream",
          "text": [
            "\n",
            "Epoch 11/100: 100%|██████████| 50/50 [00:16<00:00,  3.00it/s, Loss_G=-0.159, Loss_S (avg)=0.155, LR_S=0.1, LR_G=0.001]"
          ]
        },
        {
          "name": "stdout",
          "output_type": "stream",
          "text": [
            "Epoch 11 Avg Losses -> G: -0.1583, S: 0.1587\n"
          ]
        },
        {
          "name": "stderr",
          "output_type": "stream",
          "text": [
            "\n",
            "Epoch 12/100: 100%|██████████| 50/50 [00:16<00:00,  3.00it/s, Loss_G=-0.151, Loss_S (avg)=0.151, LR_S=0.1, LR_G=0.001]"
          ]
        },
        {
          "name": "stdout",
          "output_type": "stream",
          "text": [
            "Epoch 12 Avg Losses -> G: -0.1541, S: 0.1539\n"
          ]
        },
        {
          "name": "stderr",
          "output_type": "stream",
          "text": [
            "\n"
          ]
        },
        {
          "name": "stdout",
          "output_type": "stream",
          "text": [
            "*** New best accuracy: 1.79% (Epoch 12) ***\n"
          ]
        },
        {
          "name": "stderr",
          "output_type": "stream",
          "text": [
            "Epoch 13/100: 100%|██████████| 50/50 [00:16<00:00,  3.00it/s, Loss_G=-0.158, Loss_S (avg)=0.159, LR_S=0.1, LR_G=0.001]"
          ]
        },
        {
          "name": "stdout",
          "output_type": "stream",
          "text": [
            "Epoch 13 Avg Losses -> G: -0.1561, S: 0.1566\n"
          ]
        },
        {
          "name": "stderr",
          "output_type": "stream",
          "text": [
            "\n",
            "Epoch 14/100: 100%|██████████| 50/50 [00:16<00:00,  3.00it/s, Loss_G=-0.151, Loss_S (avg)=0.148, LR_S=0.1, LR_G=0.001]"
          ]
        },
        {
          "name": "stdout",
          "output_type": "stream",
          "text": [
            "Epoch 14 Avg Losses -> G: -0.1515, S: 0.1510\n"
          ]
        },
        {
          "name": "stderr",
          "output_type": "stream",
          "text": [
            "\n",
            "Epoch 15/100: 100%|██████████| 50/50 [00:16<00:00,  3.00it/s, Loss_G=-0.153, Loss_S (avg)=0.151, LR_S=0.1, LR_G=0.001]"
          ]
        },
        {
          "name": "stdout",
          "output_type": "stream",
          "text": [
            "Epoch 15 Avg Losses -> G: -0.1524, S: 0.1528\n"
          ]
        },
        {
          "name": "stderr",
          "output_type": "stream",
          "text": [
            "\n"
          ]
        },
        {
          "name": "stdout",
          "output_type": "stream",
          "text": [
            "*** New best accuracy: 1.98% (Epoch 15) ***\n"
          ]
        },
        {
          "name": "stderr",
          "output_type": "stream",
          "text": [
            "Epoch 16/100: 100%|██████████| 50/50 [00:16<00:00,  3.03it/s, Loss_G=-0.138, Loss_S (avg)=0.142, LR_S=0.1, LR_G=0.001]"
          ]
        },
        {
          "name": "stdout",
          "output_type": "stream",
          "text": [
            "Epoch 16 Avg Losses -> G: -0.1445, S: 0.1452\n"
          ]
        },
        {
          "name": "stderr",
          "output_type": "stream",
          "text": [
            "\n",
            "Epoch 17/100: 100%|██████████| 50/50 [00:16<00:00,  3.01it/s, Loss_G=-0.141, Loss_S (avg)=0.138, LR_S=0.1, LR_G=0.001]"
          ]
        },
        {
          "name": "stdout",
          "output_type": "stream",
          "text": [
            "Epoch 17 Avg Losses -> G: -0.1396, S: 0.1397\n"
          ]
        },
        {
          "name": "stderr",
          "output_type": "stream",
          "text": [
            "\n",
            "Epoch 18/100: 100%|██████████| 50/50 [00:16<00:00,  2.98it/s, Loss_G=-0.139, Loss_S (avg)=0.137, LR_S=0.1, LR_G=0.001]"
          ]
        },
        {
          "name": "stdout",
          "output_type": "stream",
          "text": [
            "Epoch 18 Avg Losses -> G: -0.1389, S: 0.1385\n"
          ]
        },
        {
          "name": "stderr",
          "output_type": "stream",
          "text": [
            "\n",
            "Epoch 19/100: 100%|██████████| 50/50 [00:16<00:00,  3.01it/s, Loss_G=-0.136, Loss_S (avg)=0.138, LR_S=0.1, LR_G=0.001]"
          ]
        },
        {
          "name": "stdout",
          "output_type": "stream",
          "text": [
            "Epoch 19 Avg Losses -> G: -0.1369, S: 0.1374\n"
          ]
        },
        {
          "name": "stderr",
          "output_type": "stream",
          "text": [
            "\n",
            "Epoch 20/100: 100%|██████████| 50/50 [00:16<00:00,  3.01it/s, Loss_G=-0.138, Loss_S (avg)=0.134, LR_S=0.1, LR_G=0.001]"
          ]
        },
        {
          "name": "stdout",
          "output_type": "stream",
          "text": [
            "Epoch 20 Avg Losses -> G: -0.1363, S: 0.1365\n"
          ]
        },
        {
          "name": "stderr",
          "output_type": "stream",
          "text": [
            "\n",
            "Epoch 21/100: 100%|██████████| 50/50 [00:16<00:00,  3.01it/s, Loss_G=-0.133, Loss_S (avg)=0.135, LR_S=0.1, LR_G=0.001]"
          ]
        },
        {
          "name": "stdout",
          "output_type": "stream",
          "text": [
            "Epoch 21 Avg Losses -> G: -0.1349, S: 0.1348\n"
          ]
        },
        {
          "name": "stderr",
          "output_type": "stream",
          "text": [
            "\n",
            "Epoch 22/100: 100%|██████████| 50/50 [00:16<00:00,  3.01it/s, Loss_G=-0.134, Loss_S (avg)=0.134, LR_S=0.1, LR_G=0.001]"
          ]
        },
        {
          "name": "stdout",
          "output_type": "stream",
          "text": [
            "Epoch 22 Avg Losses -> G: -0.1353, S: 0.1348\n"
          ]
        },
        {
          "name": "stderr",
          "output_type": "stream",
          "text": [
            "\n",
            "Epoch 23/100: 100%|██████████| 50/50 [00:16<00:00,  3.01it/s, Loss_G=-0.135, Loss_S (avg)=0.137, LR_S=0.1, LR_G=0.001]"
          ]
        },
        {
          "name": "stdout",
          "output_type": "stream",
          "text": [
            "Epoch 23 Avg Losses -> G: -0.1370, S: 0.1366\n"
          ]
        },
        {
          "name": "stderr",
          "output_type": "stream",
          "text": [
            "\n",
            "Epoch 24/100: 100%|██████████| 50/50 [00:16<00:00,  3.00it/s, Loss_G=-0.138, Loss_S (avg)=0.132, LR_S=0.1, LR_G=0.001]"
          ]
        },
        {
          "name": "stdout",
          "output_type": "stream",
          "text": [
            "Epoch 24 Avg Losses -> G: -0.1350, S: 0.1340\n"
          ]
        },
        {
          "name": "stderr",
          "output_type": "stream",
          "text": [
            "\n",
            "Epoch 25/100: 100%|██████████| 50/50 [00:16<00:00,  3.00it/s, Loss_G=-0.13, Loss_S (avg)=0.131, LR_S=0.1, LR_G=0.001] "
          ]
        },
        {
          "name": "stdout",
          "output_type": "stream",
          "text": [
            "Epoch 25 Avg Losses -> G: -0.1331, S: 0.1330\n"
          ]
        },
        {
          "name": "stderr",
          "output_type": "stream",
          "text": [
            "\n",
            "Epoch 26/100: 100%|██████████| 50/50 [00:16<00:00,  3.00it/s, Loss_G=-0.129, Loss_S (avg)=0.133, LR_S=0.1, LR_G=0.001]"
          ]
        },
        {
          "name": "stdout",
          "output_type": "stream",
          "text": [
            "Epoch 26 Avg Losses -> G: -0.1326, S: 0.1322\n"
          ]
        },
        {
          "name": "stderr",
          "output_type": "stream",
          "text": [
            "\n",
            "Epoch 27/100: 100%|██████████| 50/50 [00:16<00:00,  2.99it/s, Loss_G=-0.134, Loss_S (avg)=0.132, LR_S=0.1, LR_G=0.001]"
          ]
        },
        {
          "name": "stdout",
          "output_type": "stream",
          "text": [
            "Epoch 27 Avg Losses -> G: -0.1311, S: 0.1313\n"
          ]
        },
        {
          "name": "stderr",
          "output_type": "stream",
          "text": [
            "\n",
            "Epoch 28/100: 100%|██████████| 50/50 [00:16<00:00,  2.99it/s, Loss_G=-0.132, Loss_S (avg)=0.13, LR_S=0.1, LR_G=0.001] "
          ]
        },
        {
          "name": "stdout",
          "output_type": "stream",
          "text": [
            "Epoch 28 Avg Losses -> G: -0.1309, S: 0.1314\n"
          ]
        },
        {
          "name": "stderr",
          "output_type": "stream",
          "text": [
            "\n",
            "Epoch 29/100: 100%|██████████| 50/50 [00:16<00:00,  2.99it/s, Loss_G=-0.129, Loss_S (avg)=0.128, LR_S=0.1, LR_G=0.001]"
          ]
        },
        {
          "name": "stdout",
          "output_type": "stream",
          "text": [
            "Epoch 29 Avg Losses -> G: -0.1304, S: 0.1309\n"
          ]
        },
        {
          "name": "stderr",
          "output_type": "stream",
          "text": [
            "\n",
            "Epoch 30/100: 100%|██████████| 50/50 [00:16<00:00,  3.00it/s, Loss_G=-0.131, Loss_S (avg)=0.129, LR_S=0.1, LR_G=0.001]"
          ]
        },
        {
          "name": "stdout",
          "output_type": "stream",
          "text": [
            "Epoch 30 Avg Losses -> G: -0.1311, S: 0.1311\n"
          ]
        },
        {
          "name": "stderr",
          "output_type": "stream",
          "text": [
            "\n",
            "Epoch 31/100: 100%|██████████| 50/50 [00:16<00:00,  3.00it/s, Loss_G=-0.119, Loss_S (avg)=0.121, LR_S=0.05, LR_G=0.0005]"
          ]
        },
        {
          "name": "stdout",
          "output_type": "stream",
          "text": [
            "Epoch 31 Avg Losses -> G: -0.1217, S: 0.1216\n"
          ]
        },
        {
          "name": "stderr",
          "output_type": "stream",
          "text": [
            "\n",
            "Epoch 32/100: 100%|██████████| 50/50 [00:16<00:00,  3.00it/s, Loss_G=-0.121, Loss_S (avg)=0.119, LR_S=0.05, LR_G=0.0005]"
          ]
        },
        {
          "name": "stdout",
          "output_type": "stream",
          "text": [
            "Epoch 32 Avg Losses -> G: -0.1207, S: 0.1203\n"
          ]
        },
        {
          "name": "stderr",
          "output_type": "stream",
          "text": [
            "\n",
            "Epoch 33/100: 100%|██████████| 50/50 [00:16<00:00,  2.99it/s, Loss_G=-0.12, Loss_S (avg)=0.12, LR_S=0.05, LR_G=0.0005]  "
          ]
        },
        {
          "name": "stdout",
          "output_type": "stream",
          "text": [
            "Epoch 33 Avg Losses -> G: -0.1206, S: 0.1204\n"
          ]
        },
        {
          "name": "stderr",
          "output_type": "stream",
          "text": [
            "\n",
            "Epoch 34/100: 100%|██████████| 50/50 [00:16<00:00,  3.00it/s, Loss_G=-0.122, Loss_S (avg)=0.121, LR_S=0.05, LR_G=0.0005]"
          ]
        },
        {
          "name": "stdout",
          "output_type": "stream",
          "text": [
            "Epoch 34 Avg Losses -> G: -0.1198, S: 0.1202\n"
          ]
        },
        {
          "name": "stderr",
          "output_type": "stream",
          "text": [
            "\n",
            "Epoch 35/100: 100%|██████████| 50/50 [00:16<00:00,  3.00it/s, Loss_G=-0.123, Loss_S (avg)=0.119, LR_S=0.05, LR_G=0.0005]"
          ]
        },
        {
          "name": "stdout",
          "output_type": "stream",
          "text": [
            "Epoch 35 Avg Losses -> G: -0.1205, S: 0.1206\n"
          ]
        },
        {
          "name": "stderr",
          "output_type": "stream",
          "text": [
            "\n",
            "Epoch 36/100: 100%|██████████| 50/50 [00:16<00:00,  3.00it/s, Loss_G=-0.124, Loss_S (avg)=0.123, LR_S=0.05, LR_G=0.0005]"
          ]
        },
        {
          "name": "stdout",
          "output_type": "stream",
          "text": [
            "Epoch 36 Avg Losses -> G: -0.1202, S: 0.1207\n"
          ]
        },
        {
          "name": "stderr",
          "output_type": "stream",
          "text": [
            "\n",
            "Epoch 37/100: 100%|██████████| 50/50 [00:16<00:00,  2.99it/s, Loss_G=-0.122, Loss_S (avg)=0.121, LR_S=0.05, LR_G=0.0005]"
          ]
        },
        {
          "name": "stdout",
          "output_type": "stream",
          "text": [
            "Epoch 37 Avg Losses -> G: -0.1207, S: 0.1211\n"
          ]
        },
        {
          "name": "stderr",
          "output_type": "stream",
          "text": [
            "\n",
            "Epoch 38/100: 100%|██████████| 50/50 [00:16<00:00,  3.00it/s, Loss_G=-0.124, Loss_S (avg)=0.121, LR_S=0.05, LR_G=0.0005]"
          ]
        },
        {
          "name": "stdout",
          "output_type": "stream",
          "text": [
            "Epoch 38 Avg Losses -> G: -0.1218, S: 0.1210\n"
          ]
        },
        {
          "name": "stderr",
          "output_type": "stream",
          "text": [
            "\n",
            "Epoch 39/100: 100%|██████████| 50/50 [00:16<00:00,  2.99it/s, Loss_G=-0.119, Loss_S (avg)=0.12, LR_S=0.05, LR_G=0.0005] "
          ]
        },
        {
          "name": "stdout",
          "output_type": "stream",
          "text": [
            "Epoch 39 Avg Losses -> G: -0.1206, S: 0.1203\n"
          ]
        },
        {
          "name": "stderr",
          "output_type": "stream",
          "text": [
            "\n",
            "Epoch 40/100: 100%|██████████| 50/50 [00:16<00:00,  2.99it/s, Loss_G=-0.12, Loss_S (avg)=0.122, LR_S=0.05, LR_G=0.0005] "
          ]
        },
        {
          "name": "stdout",
          "output_type": "stream",
          "text": [
            "Epoch 40 Avg Losses -> G: -0.1211, S: 0.1206\n"
          ]
        },
        {
          "name": "stderr",
          "output_type": "stream",
          "text": [
            "\n",
            "Epoch 41/100: 100%|██████████| 50/50 [00:16<00:00,  3.00it/s, Loss_G=-0.125, Loss_S (avg)=0.12, LR_S=0.05, LR_G=0.0005]"
          ]
        },
        {
          "name": "stdout",
          "output_type": "stream",
          "text": [
            "Epoch 41 Avg Losses -> G: -0.1205, S: 0.1206\n"
          ]
        },
        {
          "name": "stderr",
          "output_type": "stream",
          "text": [
            "\n",
            "Epoch 42/100: 100%|██████████| 50/50 [00:16<00:00,  3.00it/s, Loss_G=-0.125, Loss_S (avg)=0.122, LR_S=0.05, LR_G=0.0005]"
          ]
        },
        {
          "name": "stdout",
          "output_type": "stream",
          "text": [
            "Epoch 42 Avg Losses -> G: -0.1207, S: 0.1214\n"
          ]
        },
        {
          "name": "stderr",
          "output_type": "stream",
          "text": [
            "\n",
            "Epoch 43/100: 100%|██████████| 50/50 [00:16<00:00,  2.99it/s, Loss_G=-0.118, Loss_S (avg)=0.12, LR_S=0.05, LR_G=0.0005] "
          ]
        },
        {
          "name": "stdout",
          "output_type": "stream",
          "text": [
            "Epoch 43 Avg Losses -> G: -0.1210, S: 0.1210\n"
          ]
        },
        {
          "name": "stderr",
          "output_type": "stream",
          "text": [
            "\n",
            "Epoch 44/100: 100%|██████████| 50/50 [00:16<00:00,  2.99it/s, Loss_G=-0.122, Loss_S (avg)=0.123, LR_S=0.05, LR_G=0.0005]"
          ]
        },
        {
          "name": "stdout",
          "output_type": "stream",
          "text": [
            "Epoch 44 Avg Losses -> G: -0.1204, S: 0.1208\n"
          ]
        },
        {
          "name": "stderr",
          "output_type": "stream",
          "text": [
            "\n",
            "Epoch 45/100: 100%|██████████| 50/50 [00:16<00:00,  2.99it/s, Loss_G=-0.117, Loss_S (avg)=0.119, LR_S=0.05, LR_G=0.0005]"
          ]
        },
        {
          "name": "stdout",
          "output_type": "stream",
          "text": [
            "Epoch 45 Avg Losses -> G: -0.1205, S: 0.1202\n"
          ]
        },
        {
          "name": "stderr",
          "output_type": "stream",
          "text": [
            "\n",
            "Epoch 46/100: 100%|██████████| 50/50 [00:16<00:00,  3.00it/s, Loss_G=-0.117, Loss_S (avg)=0.117, LR_S=0.05, LR_G=0.0005]"
          ]
        },
        {
          "name": "stdout",
          "output_type": "stream",
          "text": [
            "Epoch 46 Avg Losses -> G: -0.1194, S: 0.1196\n"
          ]
        },
        {
          "name": "stderr",
          "output_type": "stream",
          "text": [
            "\n",
            "Epoch 47/100: 100%|██████████| 50/50 [00:16<00:00,  3.00it/s, Loss_G=-0.117, Loss_S (avg)=0.121, LR_S=0.05, LR_G=0.0005]"
          ]
        },
        {
          "name": "stdout",
          "output_type": "stream",
          "text": [
            "Epoch 47 Avg Losses -> G: -0.1204, S: 0.1205\n"
          ]
        },
        {
          "name": "stderr",
          "output_type": "stream",
          "text": [
            "\n",
            "Epoch 48/100: 100%|██████████| 50/50 [00:16<00:00,  3.00it/s, Loss_G=-0.119, Loss_S (avg)=0.12, LR_S=0.05, LR_G=0.0005] "
          ]
        },
        {
          "name": "stdout",
          "output_type": "stream",
          "text": [
            "Epoch 48 Avg Losses -> G: -0.1207, S: 0.1207\n"
          ]
        },
        {
          "name": "stderr",
          "output_type": "stream",
          "text": [
            "\n",
            "Epoch 49/100: 100%|██████████| 50/50 [00:16<00:00,  2.99it/s, Loss_G=-0.121, Loss_S (avg)=0.12, LR_S=0.05, LR_G=0.0005] "
          ]
        },
        {
          "name": "stdout",
          "output_type": "stream",
          "text": [
            "Epoch 49 Avg Losses -> G: -0.1209, S: 0.1207\n"
          ]
        },
        {
          "name": "stderr",
          "output_type": "stream",
          "text": [
            "\n",
            "Epoch 50/100: 100%|██████████| 50/50 [00:16<00:00,  2.99it/s, Loss_G=-0.119, Loss_S (avg)=0.12, LR_S=0.05, LR_G=0.0005] "
          ]
        },
        {
          "name": "stdout",
          "output_type": "stream",
          "text": [
            "Epoch 50 Avg Losses -> G: -0.1205, S: 0.1205\n"
          ]
        },
        {
          "name": "stderr",
          "output_type": "stream",
          "text": [
            "\n",
            "Epoch 51/100: 100%|██████████| 50/50 [00:16<00:00,  2.99it/s, Loss_G=-0.119, Loss_S (avg)=0.12, LR_S=0.05, LR_G=0.0005] "
          ]
        },
        {
          "name": "stdout",
          "output_type": "stream",
          "text": [
            "Epoch 51 Avg Losses -> G: -0.1205, S: 0.1204\n"
          ]
        },
        {
          "name": "stderr",
          "output_type": "stream",
          "text": [
            "\n",
            "Epoch 52/100: 100%|██████████| 50/50 [00:16<00:00,  2.99it/s, Loss_G=-0.121, Loss_S (avg)=0.119, LR_S=0.05, LR_G=0.0005]"
          ]
        },
        {
          "name": "stdout",
          "output_type": "stream",
          "text": [
            "Epoch 52 Avg Losses -> G: -0.1208, S: 0.1211\n"
          ]
        },
        {
          "name": "stderr",
          "output_type": "stream",
          "text": [
            "\n",
            "Epoch 53/100: 100%|██████████| 50/50 [00:16<00:00,  2.99it/s, Loss_G=-0.118, Loss_S (avg)=0.12, LR_S=0.05, LR_G=0.0005] "
          ]
        },
        {
          "name": "stdout",
          "output_type": "stream",
          "text": [
            "Epoch 53 Avg Losses -> G: -0.1214, S: 0.1212\n"
          ]
        },
        {
          "name": "stderr",
          "output_type": "stream",
          "text": [
            "\n",
            "Epoch 54/100: 100%|██████████| 50/50 [00:16<00:00,  2.99it/s, Loss_G=-0.117, Loss_S (avg)=0.121, LR_S=0.05, LR_G=0.0005]"
          ]
        },
        {
          "name": "stdout",
          "output_type": "stream",
          "text": [
            "Epoch 54 Avg Losses -> G: -0.1204, S: 0.1205\n"
          ]
        },
        {
          "name": "stderr",
          "output_type": "stream",
          "text": [
            "\n",
            "Epoch 55/100: 100%|██████████| 50/50 [00:16<00:00,  2.99it/s, Loss_G=-0.12, Loss_S (avg)=0.123, LR_S=0.05, LR_G=0.0005] "
          ]
        },
        {
          "name": "stdout",
          "output_type": "stream",
          "text": [
            "Epoch 55 Avg Losses -> G: -0.1209, S: 0.1208\n"
          ]
        },
        {
          "name": "stderr",
          "output_type": "stream",
          "text": [
            "\n",
            "Epoch 56/100: 100%|██████████| 50/50 [00:16<00:00,  3.00it/s, Loss_G=-0.121, Loss_S (avg)=0.121, LR_S=0.05, LR_G=0.0005]"
          ]
        },
        {
          "name": "stdout",
          "output_type": "stream",
          "text": [
            "Epoch 56 Avg Losses -> G: -0.1213, S: 0.1209\n"
          ]
        },
        {
          "name": "stderr",
          "output_type": "stream",
          "text": [
            "\n",
            "Epoch 57/100: 100%|██████████| 50/50 [00:16<00:00,  2.99it/s, Loss_G=-0.119, Loss_S (avg)=0.121, LR_S=0.05, LR_G=0.0005]"
          ]
        },
        {
          "name": "stdout",
          "output_type": "stream",
          "text": [
            "Epoch 57 Avg Losses -> G: -0.1205, S: 0.1210\n"
          ]
        },
        {
          "name": "stderr",
          "output_type": "stream",
          "text": [
            "\n",
            "Epoch 58/100: 100%|██████████| 50/50 [00:16<00:00,  2.99it/s, Loss_G=-0.119, Loss_S (avg)=0.121, LR_S=0.05, LR_G=0.0005]"
          ]
        },
        {
          "name": "stdout",
          "output_type": "stream",
          "text": [
            "Epoch 58 Avg Losses -> G: -0.1210, S: 0.1210\n"
          ]
        },
        {
          "name": "stderr",
          "output_type": "stream",
          "text": [
            "\n",
            "Epoch 59/100: 100%|██████████| 50/50 [00:16<00:00,  2.99it/s, Loss_G=-0.118, Loss_S (avg)=0.12, LR_S=0.05, LR_G=0.0005] "
          ]
        },
        {
          "name": "stdout",
          "output_type": "stream",
          "text": [
            "Epoch 59 Avg Losses -> G: -0.1209, S: 0.1212\n"
          ]
        },
        {
          "name": "stderr",
          "output_type": "stream",
          "text": [
            "\n",
            "Epoch 60/100: 100%|██████████| 50/50 [00:16<00:00,  2.99it/s, Loss_G=-0.117, Loss_S (avg)=0.122, LR_S=0.05, LR_G=0.0005]"
          ]
        },
        {
          "name": "stdout",
          "output_type": "stream",
          "text": [
            "Epoch 60 Avg Losses -> G: -0.1222, S: 0.1217\n"
          ]
        },
        {
          "name": "stderr",
          "output_type": "stream",
          "text": [
            "\n",
            "Epoch 61/100: 100%|██████████| 50/50 [00:16<00:00,  3.00it/s, Loss_G=-0.122, Loss_S (avg)=0.114, LR_S=0.025, LR_G=0.00025]"
          ]
        },
        {
          "name": "stdout",
          "output_type": "stream",
          "text": [
            "Epoch 61 Avg Losses -> G: -0.1146, S: 0.1147\n"
          ]
        },
        {
          "name": "stderr",
          "output_type": "stream",
          "text": [
            "\n",
            "Epoch 62/100: 100%|██████████| 50/50 [00:16<00:00,  2.99it/s, Loss_G=-0.111, Loss_S (avg)=0.111, LR_S=0.025, LR_G=0.00025]"
          ]
        },
        {
          "name": "stdout",
          "output_type": "stream",
          "text": [
            "Epoch 62 Avg Losses -> G: -0.1136, S: 0.1138\n"
          ]
        },
        {
          "name": "stderr",
          "output_type": "stream",
          "text": [
            "\n",
            "Epoch 63/100: 100%|██████████| 50/50 [00:16<00:00,  2.99it/s, Loss_G=-0.117, Loss_S (avg)=0.113, LR_S=0.025, LR_G=0.00025]"
          ]
        },
        {
          "name": "stdout",
          "output_type": "stream",
          "text": [
            "Epoch 63 Avg Losses -> G: -0.1137, S: 0.1136\n"
          ]
        },
        {
          "name": "stderr",
          "output_type": "stream",
          "text": [
            "\n",
            "Epoch 64/100: 100%|██████████| 50/50 [00:16<00:00,  2.99it/s, Loss_G=-0.114, Loss_S (avg)=0.114, LR_S=0.025, LR_G=0.00025]"
          ]
        },
        {
          "name": "stdout",
          "output_type": "stream",
          "text": [
            "Epoch 64 Avg Losses -> G: -0.1131, S: 0.1134\n"
          ]
        },
        {
          "name": "stderr",
          "output_type": "stream",
          "text": [
            "\n",
            "Epoch 65/100: 100%|██████████| 50/50 [00:16<00:00,  2.99it/s, Loss_G=-0.114, Loss_S (avg)=0.113, LR_S=0.025, LR_G=0.00025]"
          ]
        },
        {
          "name": "stdout",
          "output_type": "stream",
          "text": [
            "Epoch 65 Avg Losses -> G: -0.1139, S: 0.1137\n"
          ]
        },
        {
          "name": "stderr",
          "output_type": "stream",
          "text": [
            "\n",
            "Epoch 66/100: 100%|██████████| 50/50 [00:16<00:00,  2.99it/s, Loss_G=-0.122, Loss_S (avg)=0.114, LR_S=0.025, LR_G=0.00025]"
          ]
        },
        {
          "name": "stdout",
          "output_type": "stream",
          "text": [
            "Epoch 66 Avg Losses -> G: -0.1132, S: 0.1137\n"
          ]
        },
        {
          "name": "stderr",
          "output_type": "stream",
          "text": [
            "\n",
            "Epoch 67/100: 100%|██████████| 50/50 [00:16<00:00,  3.00it/s, Loss_G=-0.114, Loss_S (avg)=0.117, LR_S=0.025, LR_G=0.00025]"
          ]
        },
        {
          "name": "stdout",
          "output_type": "stream",
          "text": [
            "Epoch 67 Avg Losses -> G: -0.1140, S: 0.1134\n"
          ]
        },
        {
          "name": "stderr",
          "output_type": "stream",
          "text": [
            "\n",
            "Epoch 68/100: 100%|██████████| 50/50 [00:16<00:00,  2.99it/s, Loss_G=-0.112, Loss_S (avg)=0.113, LR_S=0.025, LR_G=0.00025]"
          ]
        },
        {
          "name": "stdout",
          "output_type": "stream",
          "text": [
            "Epoch 68 Avg Losses -> G: -0.1141, S: 0.1136\n"
          ]
        },
        {
          "name": "stderr",
          "output_type": "stream",
          "text": [
            "\n",
            "Epoch 69/100: 100%|██████████| 50/50 [00:16<00:00,  2.99it/s, Loss_G=-0.114, Loss_S (avg)=0.114, LR_S=0.025, LR_G=0.00025]"
          ]
        },
        {
          "name": "stdout",
          "output_type": "stream",
          "text": [
            "Epoch 69 Avg Losses -> G: -0.1137, S: 0.1136\n"
          ]
        },
        {
          "name": "stderr",
          "output_type": "stream",
          "text": [
            "\n",
            "Epoch 70/100: 100%|██████████| 50/50 [00:16<00:00,  2.99it/s, Loss_G=-0.113, Loss_S (avg)=0.113, LR_S=0.025, LR_G=0.00025]"
          ]
        },
        {
          "name": "stdout",
          "output_type": "stream",
          "text": [
            "Epoch 70 Avg Losses -> G: -0.1127, S: 0.1130\n"
          ]
        },
        {
          "name": "stderr",
          "output_type": "stream",
          "text": [
            "\n",
            "Epoch 71/100: 100%|██████████| 50/50 [00:16<00:00,  3.00it/s, Loss_G=-0.113, Loss_S (avg)=0.112, LR_S=0.025, LR_G=0.00025]"
          ]
        },
        {
          "name": "stdout",
          "output_type": "stream",
          "text": [
            "Epoch 71 Avg Losses -> G: -0.1130, S: 0.1127\n"
          ]
        },
        {
          "name": "stderr",
          "output_type": "stream",
          "text": [
            "\n",
            "Epoch 72/100: 100%|██████████| 50/50 [00:16<00:00,  2.99it/s, Loss_G=-0.115, Loss_S (avg)=0.113, LR_S=0.025, LR_G=0.00025]"
          ]
        },
        {
          "name": "stdout",
          "output_type": "stream",
          "text": [
            "Epoch 72 Avg Losses -> G: -0.1132, S: 0.1131\n"
          ]
        },
        {
          "name": "stderr",
          "output_type": "stream",
          "text": [
            "\n",
            "Epoch 73/100: 100%|██████████| 50/50 [00:16<00:00,  2.99it/s, Loss_G=-0.113, Loss_S (avg)=0.114, LR_S=0.025, LR_G=0.00025]"
          ]
        },
        {
          "name": "stdout",
          "output_type": "stream",
          "text": [
            "Epoch 73 Avg Losses -> G: -0.1136, S: 0.1129\n"
          ]
        },
        {
          "name": "stderr",
          "output_type": "stream",
          "text": [
            "\n",
            "Epoch 74/100: 100%|██████████| 50/50 [00:16<00:00,  2.99it/s, Loss_G=-0.115, Loss_S (avg)=0.112, LR_S=0.025, LR_G=0.00025]"
          ]
        },
        {
          "name": "stdout",
          "output_type": "stream",
          "text": [
            "Epoch 74 Avg Losses -> G: -0.1133, S: 0.1131\n"
          ]
        },
        {
          "name": "stderr",
          "output_type": "stream",
          "text": [
            "\n",
            "Epoch 75/100: 100%|██████████| 50/50 [00:16<00:00,  2.98it/s, Loss_G=-0.115, Loss_S (avg)=0.116, LR_S=0.025, LR_G=0.00025]"
          ]
        },
        {
          "name": "stdout",
          "output_type": "stream",
          "text": [
            "Epoch 75 Avg Losses -> G: -0.1128, S: 0.1134\n"
          ]
        },
        {
          "name": "stderr",
          "output_type": "stream",
          "text": [
            "\n",
            "Epoch 76/100: 100%|██████████| 50/50 [00:16<00:00,  3.00it/s, Loss_G=-0.111, Loss_S (avg)=0.114, LR_S=0.025, LR_G=0.00025]"
          ]
        },
        {
          "name": "stdout",
          "output_type": "stream",
          "text": [
            "Epoch 76 Avg Losses -> G: -0.1136, S: 0.1136\n"
          ]
        },
        {
          "name": "stderr",
          "output_type": "stream",
          "text": [
            "\n",
            "Epoch 77/100: 100%|██████████| 50/50 [00:16<00:00,  3.00it/s, Loss_G=-0.116, Loss_S (avg)=0.113, LR_S=0.025, LR_G=0.00025]"
          ]
        },
        {
          "name": "stdout",
          "output_type": "stream",
          "text": [
            "Epoch 77 Avg Losses -> G: -0.1138, S: 0.1137\n"
          ]
        },
        {
          "name": "stderr",
          "output_type": "stream",
          "text": [
            "\n",
            "Epoch 78/100: 100%|██████████| 50/50 [00:16<00:00,  3.00it/s, Loss_G=-0.118, Loss_S (avg)=0.116, LR_S=0.025, LR_G=0.00025]"
          ]
        },
        {
          "name": "stdout",
          "output_type": "stream",
          "text": [
            "Epoch 78 Avg Losses -> G: -0.1135, S: 0.1133\n"
          ]
        },
        {
          "name": "stderr",
          "output_type": "stream",
          "text": [
            "\n",
            "Epoch 79/100: 100%|██████████| 50/50 [00:16<00:00,  3.00it/s, Loss_G=-0.114, Loss_S (avg)=0.114, LR_S=0.025, LR_G=0.00025]"
          ]
        },
        {
          "name": "stdout",
          "output_type": "stream",
          "text": [
            "Epoch 79 Avg Losses -> G: -0.1130, S: 0.1128\n"
          ]
        },
        {
          "name": "stderr",
          "output_type": "stream",
          "text": [
            "\n",
            "Epoch 80/100: 100%|██████████| 50/50 [00:16<00:00,  3.00it/s, Loss_G=-0.117, Loss_S (avg)=0.116, LR_S=0.025, LR_G=0.00025]"
          ]
        },
        {
          "name": "stdout",
          "output_type": "stream",
          "text": [
            "Epoch 80 Avg Losses -> G: -0.1130, S: 0.1131\n"
          ]
        },
        {
          "name": "stderr",
          "output_type": "stream",
          "text": [
            "\n",
            "Epoch 81/100: 100%|██████████| 50/50 [00:16<00:00,  3.01it/s, Loss_G=-0.112, Loss_S (avg)=0.115, LR_S=0.025, LR_G=0.00025]"
          ]
        },
        {
          "name": "stdout",
          "output_type": "stream",
          "text": [
            "Epoch 81 Avg Losses -> G: -0.1132, S: 0.1130\n"
          ]
        },
        {
          "name": "stderr",
          "output_type": "stream",
          "text": [
            "\n",
            "Epoch 82/100: 100%|██████████| 50/50 [00:16<00:00,  3.00it/s, Loss_G=-0.114, Loss_S (avg)=0.114, LR_S=0.025, LR_G=0.00025]"
          ]
        },
        {
          "name": "stdout",
          "output_type": "stream",
          "text": [
            "Epoch 82 Avg Losses -> G: -0.1130, S: 0.1129\n"
          ]
        },
        {
          "name": "stderr",
          "output_type": "stream",
          "text": [
            "\n",
            "Epoch 83/100: 100%|██████████| 50/50 [00:16<00:00,  3.00it/s, Loss_G=-0.118, Loss_S (avg)=0.115, LR_S=0.025, LR_G=0.00025]"
          ]
        },
        {
          "name": "stdout",
          "output_type": "stream",
          "text": [
            "Epoch 83 Avg Losses -> G: -0.1130, S: 0.1131\n"
          ]
        },
        {
          "name": "stderr",
          "output_type": "stream",
          "text": [
            "\n",
            "Epoch 84/100: 100%|██████████| 50/50 [00:16<00:00,  3.00it/s, Loss_G=-0.114, Loss_S (avg)=0.112, LR_S=0.025, LR_G=0.00025]"
          ]
        },
        {
          "name": "stdout",
          "output_type": "stream",
          "text": [
            "Epoch 84 Avg Losses -> G: -0.1135, S: 0.1129\n"
          ]
        },
        {
          "name": "stderr",
          "output_type": "stream",
          "text": [
            "\n",
            "Epoch 85/100: 100%|██████████| 50/50 [00:16<00:00,  3.00it/s, Loss_G=-0.115, Loss_S (avg)=0.114, LR_S=0.025, LR_G=0.00025]"
          ]
        },
        {
          "name": "stdout",
          "output_type": "stream",
          "text": [
            "Epoch 85 Avg Losses -> G: -0.1133, S: 0.1134\n"
          ]
        },
        {
          "name": "stderr",
          "output_type": "stream",
          "text": [
            "\n",
            "Epoch 86/100: 100%|██████████| 50/50 [00:16<00:00,  3.01it/s, Loss_G=-0.111, Loss_S (avg)=0.11, LR_S=0.025, LR_G=0.00025] "
          ]
        },
        {
          "name": "stdout",
          "output_type": "stream",
          "text": [
            "Epoch 86 Avg Losses -> G: -0.1130, S: 0.1130\n"
          ]
        },
        {
          "name": "stderr",
          "output_type": "stream",
          "text": [
            "\n",
            "Epoch 87/100: 100%|██████████| 50/50 [00:16<00:00,  3.00it/s, Loss_G=-0.115, Loss_S (avg)=0.115, LR_S=0.025, LR_G=0.00025]"
          ]
        },
        {
          "name": "stdout",
          "output_type": "stream",
          "text": [
            "Epoch 87 Avg Losses -> G: -0.1137, S: 0.1131\n"
          ]
        },
        {
          "name": "stderr",
          "output_type": "stream",
          "text": [
            "\n",
            "Epoch 88/100: 100%|██████████| 50/50 [00:16<00:00,  3.00it/s, Loss_G=-0.109, Loss_S (avg)=0.114, LR_S=0.025, LR_G=0.00025]"
          ]
        },
        {
          "name": "stdout",
          "output_type": "stream",
          "text": [
            "Epoch 88 Avg Losses -> G: -0.1135, S: 0.1138\n"
          ]
        },
        {
          "name": "stderr",
          "output_type": "stream",
          "text": [
            "\n",
            "Epoch 89/100: 100%|██████████| 50/50 [00:16<00:00,  3.00it/s, Loss_G=-0.112, Loss_S (avg)=0.115, LR_S=0.025, LR_G=0.00025]"
          ]
        },
        {
          "name": "stdout",
          "output_type": "stream",
          "text": [
            "Epoch 89 Avg Losses -> G: -0.1137, S: 0.1139\n"
          ]
        },
        {
          "name": "stderr",
          "output_type": "stream",
          "text": [
            "\n",
            "Epoch 90/100: 100%|██████████| 50/50 [00:16<00:00,  3.00it/s, Loss_G=-0.115, Loss_S (avg)=0.112, LR_S=0.025, LR_G=0.00025]"
          ]
        },
        {
          "name": "stdout",
          "output_type": "stream",
          "text": [
            "Epoch 90 Avg Losses -> G: -0.1132, S: 0.1136\n"
          ]
        },
        {
          "name": "stderr",
          "output_type": "stream",
          "text": [
            "\n",
            "Epoch 91/100: 100%|██████████| 50/50 [00:16<00:00,  3.00it/s, Loss_G=-0.107, Loss_S (avg)=0.106, LR_S=0.0125, LR_G=0.000125]"
          ]
        },
        {
          "name": "stdout",
          "output_type": "stream",
          "text": [
            "Epoch 91 Avg Losses -> G: -0.1077, S: 0.1080\n"
          ]
        },
        {
          "name": "stderr",
          "output_type": "stream",
          "text": [
            "\n",
            "Epoch 92/100: 100%|██████████| 50/50 [00:16<00:00,  2.99it/s, Loss_G=-0.108, Loss_S (avg)=0.108, LR_S=0.0125, LR_G=0.000125]"
          ]
        },
        {
          "name": "stdout",
          "output_type": "stream",
          "text": [
            "Epoch 92 Avg Losses -> G: -0.1065, S: 0.1068\n"
          ]
        },
        {
          "name": "stderr",
          "output_type": "stream",
          "text": [
            "\n",
            "Epoch 93/100: 100%|██████████| 50/50 [00:16<00:00,  2.99it/s, Loss_G=-0.108, Loss_S (avg)=0.107, LR_S=0.0125, LR_G=0.000125]"
          ]
        },
        {
          "name": "stdout",
          "output_type": "stream",
          "text": [
            "Epoch 93 Avg Losses -> G: -0.1068, S: 0.1063\n"
          ]
        },
        {
          "name": "stderr",
          "output_type": "stream",
          "text": [
            "\n",
            "Epoch 94/100: 100%|██████████| 50/50 [00:16<00:00,  2.99it/s, Loss_G=-0.101, Loss_S (avg)=0.105, LR_S=0.0125, LR_G=0.000125]"
          ]
        },
        {
          "name": "stdout",
          "output_type": "stream",
          "text": [
            "Epoch 94 Avg Losses -> G: -0.1067, S: 0.1064\n"
          ]
        },
        {
          "name": "stderr",
          "output_type": "stream",
          "text": [
            "\n",
            "Epoch 95/100: 100%|██████████| 50/50 [00:16<00:00,  2.99it/s, Loss_G=-0.105, Loss_S (avg)=0.105, LR_S=0.0125, LR_G=0.000125]"
          ]
        },
        {
          "name": "stdout",
          "output_type": "stream",
          "text": [
            "Epoch 95 Avg Losses -> G: -0.1062, S: 0.1062\n"
          ]
        },
        {
          "name": "stderr",
          "output_type": "stream",
          "text": [
            "\n",
            "Epoch 96/100: 100%|██████████| 50/50 [00:16<00:00,  2.99it/s, Loss_G=-0.106, Loss_S (avg)=0.105, LR_S=0.0125, LR_G=0.000125]"
          ]
        },
        {
          "name": "stdout",
          "output_type": "stream",
          "text": [
            "Epoch 96 Avg Losses -> G: -0.1057, S: 0.1061\n"
          ]
        },
        {
          "name": "stderr",
          "output_type": "stream",
          "text": [
            "\n",
            "Epoch 97/100: 100%|██████████| 50/50 [00:16<00:00,  2.99it/s, Loss_G=-0.104, Loss_S (avg)=0.106, LR_S=0.0125, LR_G=0.000125]"
          ]
        },
        {
          "name": "stdout",
          "output_type": "stream",
          "text": [
            "Epoch 97 Avg Losses -> G: -0.1062, S: 0.1066\n"
          ]
        },
        {
          "name": "stderr",
          "output_type": "stream",
          "text": [
            "\n",
            "Epoch 98/100: 100%|██████████| 50/50 [00:16<00:00,  2.98it/s, Loss_G=-0.107, Loss_S (avg)=0.106, LR_S=0.0125, LR_G=0.000125] "
          ]
        },
        {
          "name": "stdout",
          "output_type": "stream",
          "text": [
            "Epoch 98 Avg Losses -> G: -0.1056, S: 0.1067\n"
          ]
        },
        {
          "name": "stderr",
          "output_type": "stream",
          "text": [
            "\n",
            "Epoch 99/100: 100%|██████████| 50/50 [00:16<00:00,  2.98it/s, Loss_G=-0.106, Loss_S (avg)=0.107, LR_S=0.0125, LR_G=0.000125]"
          ]
        },
        {
          "name": "stdout",
          "output_type": "stream",
          "text": [
            "Epoch 99 Avg Losses -> G: -0.1065, S: 0.1068\n"
          ]
        },
        {
          "name": "stderr",
          "output_type": "stream",
          "text": [
            "\n",
            "Epoch 100/100: 100%|██████████| 50/50 [00:16<00:00,  2.98it/s, Loss_G=-0.113, Loss_S (avg)=0.105, LR_S=0.0125, LR_G=0.000125]"
          ]
        },
        {
          "name": "stdout",
          "output_type": "stream",
          "text": [
            "Epoch 100 Avg Losses -> G: -0.1071, S: 0.1072\n"
          ]
        },
        {
          "name": "stderr",
          "output_type": "stream",
          "text": [
            "\n"
          ]
        },
        {
          "name": "stdout",
          "output_type": "stream",
          "text": [
            "Training complete! Best Test Accuracy: 1.98%\n"
          ]
        }
      ],
      "source": [
        "print(\"Starting DFAD training...\")\n",
        "for epoch in range(1, args.epochs + 1):\n",
        "    loss_g, loss_s = train(epoch)\n",
        "    losses_g.append(loss_g)\n",
        "    losses_s.append(loss_s)\n",
        "\n",
        "    # Step the schedulers after each epoch\n",
        "    if args.scheduler:\n",
        "        scheduler_S.step()\n",
        "        scheduler_G.step()\n",
        "\n",
        "    # Evaluate the student model periodically (e.g., every epoch or few epochs)\n",
        "    current_acc = test(student, test_loader_full)\n",
        "    accuracies.append(current_acc)\n",
        "\n",
        "    # Save checkpoint if better than the best accuracy found so far\n",
        "    if current_acc > best_acc:\n",
        "        print(f\"*** New best accuracy: {current_acc:.2f}% (Epoch {epoch}) ***\")\n",
        "        best_acc = current_acc\n",
        "        torch.save({\n",
        "            'epoch': epoch,\n",
        "            'generator_state_dict': generator.state_dict(),\n",
        "            'student_state_dict': student.state_dict(),\n",
        "            'optimizer_G_state_dict': optimizer_G.state_dict(),\n",
        "            'optimizer_S_state_dict': optimizer_S.state_dict(),\n",
        "            'acc': best_acc,\n",
        "            'args': args.__dict__ # Save args for reproducibility\n",
        "        }, f\"{args.save_dir}/best_model_epoch_{epoch}_acc_{best_acc:.2f}.pth\")\n",
        "        # Also save a generic 'best_model.pth' for easy loading\n",
        "        torch.save({\n",
        "            'generator_state_dict': generator.state_dict(),\n",
        "            'student_state_dict': student.state_dict(),\n",
        "        }, f\"{args.save_dir}/best_model.pth\")\n",
        "\n",
        "\n",
        "    # --- Plotting Progress ---\n",
        "    # Plot losses and accuracy (optional: plot every few epochs to save time)\n",
        "    if epoch % 5 == 0 or epoch == args.epochs: # Plot every 5 epochs and at the end\n",
        "        plt.figure(figsize=(18, 5))\n",
        "\n",
        "        plt.subplot(1, 3, 1)\n",
        "        plt.plot(losses_g, label='Generator Loss (-L1)')\n",
        "        plt.xlabel('Epoch')\n",
        "        plt.ylabel('Loss')\n",
        "        plt.title('Generator Loss over Epochs')\n",
        "        plt.legend()\n",
        "        plt.grid(True)\n",
        "\n",
        "        plt.subplot(1, 3, 2)\n",
        "        plt.plot(losses_s, label='Student Loss (L1)')\n",
        "        plt.xlabel('Epoch')\n",
        "        plt.ylabel('Loss')\n",
        "        plt.title('Student Loss over Epochs')\n",
        "        plt.legend()\n",
        "        plt.grid(True)\n",
        "\n",
        "        plt.subplot(1, 3, 3)\n",
        "        plt.plot(accuracies, label='Student Test Accuracy')\n",
        "        plt.xlabel('Epoch')\n",
        "        plt.ylabel('Accuracy (%)')\n",
        "        plt.title('Student Accuracy over Epochs')\n",
        "        plt.legend()\n",
        "        plt.grid(True)\n",
        "\n",
        "        plt.tight_layout()\n",
        "        plt.savefig(f\"{args.save_dir}/training_progress.png\")\n",
        "        plt.close()\n",
        "\n",
        "print(f\"Training complete! Best Test Accuracy: {best_acc:.2f}%\")\n"
      ]
    },
    {
      "cell_type": "code",
      "execution_count": null,
      "metadata": {
        "id": "m_ypdkRMwhN8"
      },
      "outputs": [],
      "source": []
    },
    {
      "cell_type": "code",
      "execution_count": null,
      "metadata": {},
      "outputs": [],
      "source": []
    },
    {
      "cell_type": "code",
      "execution_count": null,
      "metadata": {},
      "outputs": [],
      "source": []
    },
    {
      "cell_type": "code",
      "execution_count": null,
      "metadata": {},
      "outputs": [],
      "source": []
    },
    {
      "cell_type": "code",
      "execution_count": null,
      "metadata": {},
      "outputs": [],
      "source": []
    },
    {
      "cell_type": "code",
      "execution_count": null,
      "metadata": {},
      "outputs": [],
      "source": []
    },
    {
      "cell_type": "code",
      "execution_count": null,
      "metadata": {},
      "outputs": [],
      "source": []
    },
    {
      "cell_type": "code",
      "execution_count": null,
      "metadata": {},
      "outputs": [],
      "source": []
    },
    {
      "cell_type": "code",
      "execution_count": null,
      "metadata": {},
      "outputs": [],
      "source": []
    },
    {
      "cell_type": "code",
      "execution_count": null,
      "metadata": {},
      "outputs": [],
      "source": []
    },
    {
      "cell_type": "code",
      "execution_count": null,
      "metadata": {},
      "outputs": [],
      "source": []
    },
    {
      "cell_type": "code",
      "execution_count": null,
      "metadata": {},
      "outputs": [],
      "source": []
    },
    {
      "cell_type": "code",
      "execution_count": null,
      "metadata": {},
      "outputs": [],
      "source": []
    },
    {
      "cell_type": "code",
      "execution_count": null,
      "metadata": {},
      "outputs": [],
      "source": []
    },
    {
      "cell_type": "code",
      "execution_count": null,
      "metadata": {},
      "outputs": [],
      "source": []
    },
    {
      "cell_type": "code",
      "execution_count": null,
      "metadata": {},
      "outputs": [],
      "source": []
    },
    {
      "cell_type": "code",
      "execution_count": null,
      "metadata": {},
      "outputs": [],
      "source": []
    },
    {
      "cell_type": "code",
      "execution_count": null,
      "metadata": {},
      "outputs": [],
      "source": []
    },
    {
      "cell_type": "code",
      "execution_count": null,
      "metadata": {},
      "outputs": [],
      "source": []
    },
    {
      "cell_type": "code",
      "execution_count": null,
      "metadata": {},
      "outputs": [],
      "source": []
    },
    {
      "cell_type": "code",
      "execution_count": null,
      "metadata": {},
      "outputs": [],
      "source": []
    },
    {
      "cell_type": "code",
      "execution_count": null,
      "metadata": {},
      "outputs": [],
      "source": []
    },
    {
      "cell_type": "code",
      "execution_count": null,
      "metadata": {},
      "outputs": [],
      "source": []
    }
  ],
  "metadata": {
    "accelerator": "GPU",
    "colab": {
      "gpuType": "T4",
      "provenance": []
    },
    "kernelspec": {
      "display_name": ".venv",
      "language": "python",
      "name": "python3"
    },
    "language_info": {
      "codemirror_mode": {
        "name": "ipython",
        "version": 3
      },
      "file_extension": ".py",
      "mimetype": "text/x-python",
      "name": "python",
      "nbconvert_exporter": "python",
      "pygments_lexer": "ipython3",
      "version": "3.10.12"
    }
  },
  "nbformat": 4,
  "nbformat_minor": 0
}
